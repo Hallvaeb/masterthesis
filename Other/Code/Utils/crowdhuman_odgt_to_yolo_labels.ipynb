{
 "cells": [
  {
   "cell_type": "code",
   "execution_count": 1,
   "metadata": {},
   "outputs": [],
   "source": [
    "import json\n",
    "import pandas as pd \n",
    "import os\n",
    "import cv2"
   ]
  },
  {
   "cell_type": "code",
   "execution_count": 2,
   "metadata": {},
   "outputs": [],
   "source": [
    "odtg_file_path = 'C:\\\\Users\\\\Hallvard\\\\Code\\\\dataset\\\\CrowdHuman\\\\annotation_all.odgt'\n",
    "\n",
    "# Read and immediately convert each line to a Python dict to avoid reading the entire file into memory at once\n",
    "with open(odtg_file_path, 'r') as f:\n",
    "    data = [json.loads(line) for line in f]\n",
    "\n",
    "# Convert data to DataFrame\n",
    "df_gt = pd.DataFrame(data)\n",
    "\n",
    "# Rename 'ID' column for consistency\n",
    "df_gt = df_gt.rename(columns={'ID': 'image_id'})\n",
    "\n",
    "# Explode the 'gtboxes' column to separate rows and normalize\n",
    "df_exploded = df_gt.explode('gtboxes')\n",
    "df_gtboxes = pd.json_normalize(df_exploded['gtboxes'])\n",
    "\n",
    "# Concatenate 'image_id' with normalized 'gtboxes' DataFrame\n",
    "df_gt = pd.concat([df_exploded[['image_id']].reset_index(drop=True), df_gtboxes], axis=1)\n",
    "\n",
    "# Filter for 'person' tags and ignore == 0 or NaN\n",
    "df_gt = df_gt[(df_gt['tag'] == 'person') & (df_gt['extra.ignore'].isna() | (df_gt['extra.ignore'] == 0))]\n",
    "\n",
    "# Drop unnecessary columns in one step to avoid multiple DataFrame traversals\n",
    "to_drop = ['tag', 'hbox', 'fbox', 'head_attr.ignore', 'head_attr.occ', 'head_attr.unsure', \n",
    "           'extra.box_id', 'extra.occ', 'extra.ignore', 'extra.unsure']\n",
    "df_gt.drop(to_drop, axis=1, inplace=True)\n",
    "\n",
    "# Direct conversion of 'vbox' lists to DataFrame columns\n",
    "vbox_columns = ['x', 'y', 'w', 'h']\n",
    "df_vbox = pd.DataFrame(df_gt.pop('vbox').tolist(), columns=vbox_columns)\n",
    "\n",
    "# Final DataFrame combining 'image_id' with 'vbox' columns\n",
    "df_gt_xywh = pd.concat([df_gt.reset_index(drop=True), df_vbox], axis=1)"
   ]
  },
  {
   "cell_type": "code",
   "execution_count": 3,
   "metadata": {},
   "outputs": [],
   "source": [
    "image_path = 'C:\\\\Users\\\\Hallvard\\\\Code\\\\dataset\\\\CrowdHuman\\\\CrowdHuman-yolo\\\\images'\n",
    "\n",
    "# List comprehension to build image data\n",
    "def create_image_shapes_df(image_path):\n",
    "    image_data = [\n",
    "        (os.path.splitext(file_name)[0], img.shape[1], img.shape[0])\n",
    "        for file_name in os.listdir(image_path)\n",
    "        if file_name.lower().endswith(('.png', '.jpg', '.jpeg'))\n",
    "        if (img := cv2.imread(os.path.join(image_path, file_name))) is not None\n",
    "    ]\n",
    "    \n",
    "    # Create DataFrame\n",
    "    df_image_shapes = pd.DataFrame(image_data, columns=['image_id', 'image_width', 'image_height'])\n",
    "    return df_image_shapes\n",
    "df_shapes = create_image_shapes_df(image_path)"
   ]
  },
  {
   "cell_type": "code",
   "execution_count": 6,
   "metadata": {},
   "outputs": [],
   "source": [
    "# Merge df_shapes and df_gt_xywh on image_id\n",
    "df_gt_xywh_shapes = pd.merge(df_gt_xywh, df_shapes, on='image_id', how='inner')"
   ]
  },
  {
   "cell_type": "code",
   "execution_count": 8,
   "metadata": {},
   "outputs": [],
   "source": [
    "def convert_to_xywh(df):\n",
    "    # Centralized instead of upper left, and normalize the values.\n",
    "    # Calculate non-normalized width and height\n",
    "    df = df.assign(\n",
    "        x_center_norm=(df['x']+(df['w']/2))/df['image_width'],\n",
    "        y_center_norm=(df['y']+(df['h']/2))/df['image_height'],\n",
    "        w_norm=df['w']/df['image_width'],\n",
    "        h_norm=df['h']/df['image_height']\n",
    "    )\n",
    "    \n",
    "    # Drop the previous \n",
    "    df.drop(['x', 'y', 'w', 'h', 'image_width', 'image_height'], axis=1, inplace=True)\n",
    "\n",
    "    return df"
   ]
  },
  {
   "cell_type": "code",
   "execution_count": 10,
   "metadata": {},
   "outputs": [],
   "source": [
    "df = convert_to_xywh(df_gt_xywh_shapes)"
   ]
  },
  {
   "cell_type": "code",
   "execution_count": 11,
   "metadata": {},
   "outputs": [
    {
     "data": {
      "text/html": [
       "<div>\n",
       "<style scoped>\n",
       "    .dataframe tbody tr th:only-of-type {\n",
       "        vertical-align: middle;\n",
       "    }\n",
       "\n",
       "    .dataframe tbody tr th {\n",
       "        vertical-align: top;\n",
       "    }\n",
       "\n",
       "    .dataframe thead th {\n",
       "        text-align: right;\n",
       "    }\n",
       "</style>\n",
       "<table border=\"1\" class=\"dataframe\">\n",
       "  <thead>\n",
       "    <tr style=\"text-align: right;\">\n",
       "      <th></th>\n",
       "      <th>image_id</th>\n",
       "      <th>x_center_norm</th>\n",
       "      <th>y_center_norm</th>\n",
       "      <th>w_norm</th>\n",
       "      <th>h_norm</th>\n",
       "    </tr>\n",
       "  </thead>\n",
       "  <tbody>\n",
       "    <tr>\n",
       "      <th>0</th>\n",
       "      <td>273271,1a0d6000b9e1f5b7</td>\n",
       "      <td>0.919922</td>\n",
       "      <td>0.577901</td>\n",
       "      <td>0.162109</td>\n",
       "      <td>0.338633</td>\n",
       "    </tr>\n",
       "    <tr>\n",
       "      <th>1</th>\n",
       "      <td>273271,1a0d6000b9e1f5b7</td>\n",
       "      <td>0.774414</td>\n",
       "      <td>0.539746</td>\n",
       "      <td>0.117188</td>\n",
       "      <td>0.392687</td>\n",
       "    </tr>\n",
       "    <tr>\n",
       "      <th>2</th>\n",
       "      <td>273271,1a0d6000b9e1f5b7</td>\n",
       "      <td>0.650391</td>\n",
       "      <td>0.494436</td>\n",
       "      <td>0.113281</td>\n",
       "      <td>0.486486</td>\n",
       "    </tr>\n",
       "    <tr>\n",
       "      <th>3</th>\n",
       "      <td>273271,1a0d6000b9e1f5b7</td>\n",
       "      <td>0.467285</td>\n",
       "      <td>0.477742</td>\n",
       "      <td>0.110352</td>\n",
       "      <td>0.462639</td>\n",
       "    </tr>\n",
       "    <tr>\n",
       "      <th>4</th>\n",
       "      <td>273271,1a0d6000b9e1f5b7</td>\n",
       "      <td>0.577148</td>\n",
       "      <td>0.416534</td>\n",
       "      <td>0.125000</td>\n",
       "      <td>0.505564</td>\n",
       "    </tr>\n",
       "  </tbody>\n",
       "</table>\n",
       "</div>"
      ],
      "text/plain": [
       "                  image_id  x_center_norm  y_center_norm    w_norm    h_norm\n",
       "0  273271,1a0d6000b9e1f5b7       0.919922       0.577901  0.162109  0.338633\n",
       "1  273271,1a0d6000b9e1f5b7       0.774414       0.539746  0.117188  0.392687\n",
       "2  273271,1a0d6000b9e1f5b7       0.650391       0.494436  0.113281  0.486486\n",
       "3  273271,1a0d6000b9e1f5b7       0.467285       0.477742  0.110352  0.462639\n",
       "4  273271,1a0d6000b9e1f5b7       0.577148       0.416534  0.125000  0.505564"
      ]
     },
     "execution_count": 11,
     "metadata": {},
     "output_type": "execute_result"
    }
   ],
   "source": [
    "df.head(5)"
   ]
  },
  {
   "cell_type": "code",
   "execution_count": 22,
   "metadata": {},
   "outputs": [
    {
     "name": "stdout",
     "output_type": "stream",
     "text": [
      "57 lines written.\n"
     ]
    }
   ],
   "source": [
    "output_folder = 'C:\\\\Users\\\\Hallvard\\\\Code\\\\dataset\\\\CrowdHuman\\\\CrowdHuman-yolo\\\\labels'\n",
    "# Ensure output folder exists\n",
    "if not os.path.exists(output_folder):\n",
    "    os.makedirs(output_folder)\n",
    "\n",
    "lines_written = 0\n",
    "\n",
    "# Process each entry in the JSON\n",
    "for bbox in df.values:\n",
    "    filename = os.path.join(output_folder, f\"{bbox[0]}.txt\")\n",
    "    with open(filename, 'a') as output_file:\n",
    "        lines_written += 1\n",
    "        output_file.write(f\"0 {bbox[1]} {bbox[2]} {bbox[3]} {bbox[4]}\\n\")\n",
    "    if(lines_written % 100 == 0):\n",
    "        print(f'{lines_written} lines written.')\n",
    "print(f'{lines_written} lines written.')\n"
   ]
  }
 ],
 "metadata": {
  "kernelspec": {
   "display_name": "Python 3",
   "language": "python",
   "name": "python3"
  },
  "language_info": {
   "codemirror_mode": {
    "name": "ipython",
    "version": 3
   },
   "file_extension": ".py",
   "mimetype": "text/x-python",
   "name": "python",
   "nbconvert_exporter": "python",
   "pygments_lexer": "ipython3",
   "version": "3.11.9"
  }
 },
 "nbformat": 4,
 "nbformat_minor": 2
}
