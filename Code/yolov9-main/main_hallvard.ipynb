{
 "cells": [
  {
   "cell_type": "code",
   "execution_count": 1,
   "id": "5edf80e8-90d5-4f04-a04d-01d9be44771e",
   "metadata": {},
   "outputs": [
    {
     "name": "stdout",
     "output_type": "stream",
     "text": [
      "C:\\Users\\Hallvard\\Masterthesis\\Code\\yolov9-main\n"
     ]
    }
   ],
   "source": [
    "import os\n",
    "HOME = os.getcwd()"
   ]
  },
  {
   "cell_type": "code",
   "execution_count": 2,
   "id": "297cb155-1ab7-4e8f-ac61-0b7866f29f02",
   "metadata": {},
   "outputs": [],
   "source": [
    "HOME = \"C:/Users/Hallvard/Masterthesis/Code/yolov9-main\"\n",
    "SOURCE_IMAGE_PATH = \"C:/Users/Hallvard/Masterthesis/Code/yolov9-main/data/example_image.jpg\""
   ]
  },
  {
   "cell_type": "code",
   "execution_count": 4,
   "id": "5b0f9961-c146-4093-98c1-fd12e5a63184",
   "metadata": {},
   "outputs": [
    {
     "name": "stderr",
     "output_type": "stream",
     "text": [
      "\u001b[34m\u001b[1mdetect: \u001b[0mweights=['C:\\\\Users\\\\Hallvard\\\\Masterthesis\\\\Code\\\\yolov9-main/weights/yolov9-c.pt'], source=C:\\Users\\Hallvard\\Masterthesis\\Code\\yolov9-main/data/images/example_image.jpg, data=data\\coco128.yaml, imgsz=[640, 640], conf_thres=0.1, iou_thres=0.45, max_det=1000, device=cpu, view_img=False, save_txt=False, save_conf=False, save_crop=False, nosave=False, classes=[0], agnostic_nms=False, augment=False, visualize=False, update=False, project=runs\\detect, name=exp, exist_ok=False, line_thickness=3, hide_labels=False, hide_conf=False, half=False, dnn=False, vid_stride=1\n",
      "YOLOv5  2024-3-1 Python-3.11.8 torch-2.2.1+cpu CPU\n",
      "\n",
      "Fusing layers... \n",
      "Model summary: 604 layers, 50880768 parameters, 0 gradients, 237.6 GFLOPs\n",
      "image 1/1 C:\\Users\\Hallvard\\Masterthesis\\Code\\yolov9-main\\data\\images\\example_image.jpg: 448x640 16 persons, 1285.6ms\n",
      "Speed: 0.0ms pre-process, 1285.6ms inference, 9.9ms NMS per image at shape (1, 3, 640, 640)\n",
      "Results saved to \u001b[1mruns\\detect\\exp4\u001b[0m\n"
     ]
    }
   ],
   "source": [
    "!python detect.py --weights {HOME}/weights/yolov9-c.pt --conf 0.1 --source C:/Users/Hallvard/Masterthesis/Code/yolov9-main/data/images/example_image.jpg --device cpu --classes 0 --save-txt 0"
   ]
  },
  {
   "cell_type": "code",
   "execution_count": 9,
   "id": "dcf537c3-6dc1-42ca-8063-e5a9bd8cfa3b",
   "metadata": {},
   "outputs": [],
   "source": [
    "DATASET_PATH =\"C:/Users/Hallvard/Dataset/CrowdHuman/Images/Validation\""
   ]
  },
  {
   "cell_type": "code",
   "execution_count": 12,
   "id": "b47fe279-afa2-4019-a851-d00fc0dac2bd",
   "metadata": {},
   "outputs": [
    {
     "name": "stdout",
     "output_type": "stream",
     "text": [
      "^C\n"
     ]
    }
   ],
   "source": [
    "!python detect.py --weights C:/Users/Hallvard/Masterthesis/Code/yolov9-main/weights/yolov9-c.pt --conf 0.1 --source C:/Users/Hallvard/Dataset/CrowdHuman/Images/Validation --device cpu --classes 0 --save-txt"
   ]
  },
  {
   "cell_type": "code",
   "execution_count": null,
   "id": "41a45fe8",
   "metadata": {},
   "outputs": [],
   "source": [
    "python detect.py --weights C:/Users/Hallvard/Masterthesis/Code/yolov9-main/weights/yolov9-c.pt --conf 0.1 --source C:/Users/Hallvard/Masterthesis/Code/yolov9-main/football-players-detection-1/train/images --device cpu --classes 0 --save-txt"
   ]
  },
  {
   "cell_type": "markdown",
   "id": "2f8fd188-d85b-439c-907f-1984c6072b65",
   "metadata": {
    "jp-MarkdownHeadingCollapsed": true
   },
   "source": [
    "# Football players dataset download"
   ]
  },
  {
   "cell_type": "code",
   "execution_count": 5,
   "id": "0ac00632-6d98-44e3-ba2e-aa1c89b3db15",
   "metadata": {},
   "outputs": [
    {
     "name": "stdout",
     "output_type": "stream",
     "text": [
      "C:\\Users\\Hallvard\\Masterthesis\\Code\\yolov9-main\n",
      "visit https://app.roboflow.com/auth-cli to get your authentication token.\n"
     ]
    },
    {
     "name": "stderr",
     "output_type": "stream",
     "text": [
      "This is now an optional IPython functionality, setting dhist requires you to install the `pickleshare` library.\n"
     ]
    },
    {
     "name": "stdout",
     "output_type": "stream",
     "text": [
      "Paste the authentication token here:  ········\n"
     ]
    },
    {
     "name": "stdout",
     "output_type": "stream",
     "text": [
      "loading Roboflow workspace...\n",
      "loading Roboflow project...\n"
     ]
    },
    {
     "name": "stderr",
     "output_type": "stream",
     "text": [
      "Downloading Dataset Version Zip in football-players-detection-1 to yolov7pytorch:: 100%|████████████████████████████████| 148663/148663 [00:06<00:00, 23776.37it/s]"
     ]
    },
    {
     "name": "stdout",
     "output_type": "stream",
     "text": [
      "\n"
     ]
    },
    {
     "name": "stderr",
     "output_type": "stream",
     "text": [
      "\n",
      "Extracting Dataset Version Zip to football-players-detection-1 in yolov7pytorch:: 100%|███████████████████████████████████████| 1338/1338 [00:04<00:00, 326.66it/s]\n"
     ]
    }
   ],
   "source": [
    "import roboflow\n",
    "%cd {HOME}\n",
    "\n",
    "roboflow.login()\n",
    "\n",
    "rf = roboflow.Roboflow()\n",
    "\n",
    "project = rf.workspace(\"roboflow-jvuqo\").project(\"football-players-detection-3zvbc\")\n",
    "\n",
    "dataset = project.version(1).download(\"yolov7\")"
   ]
  }
 ],
 "metadata": {
  "kernelspec": {
   "display_name": "Python 3 (ipykernel)",
   "language": "python",
   "name": "python3"
  },
  "language_info": {
   "codemirror_mode": {
    "name": "ipython",
    "version": 3
   },
   "file_extension": ".py",
   "mimetype": "text/x-python",
   "name": "python",
   "nbconvert_exporter": "python",
   "pygments_lexer": "ipython3",
   "version": "3.11.8"
  }
 },
 "nbformat": 4,
 "nbformat_minor": 5
}
